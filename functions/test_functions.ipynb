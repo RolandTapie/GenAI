{
 "cells": [
  {
   "cell_type": "code",
   "id": "2519e5d2959e7771",
   "metadata": {
    "ExecuteTime": {
     "end_time": "2025-08-07T09:35:26.633463Z",
     "start_time": "2025-08-07T09:35:22.049165Z"
    }
   },
   "source": [
    "import whisper\n",
    "import pyttsx3\n",
    "import os\n",
    "import speech_recognition as sr\n",
    "engine = pyttsx3.init()\n",
    "voices = engine.getProperty('voices')\n",
    "\n",
    "for voice in voices:\n",
    "    print(f\"ID: {voice.id}\")\n",
    "    print(f\"Name: {voice.name}\")\n",
    "    print(f\"Langs: {voice.languages}\")\n",
    "    print(\"-\" * 40)"
   ],
   "outputs": [
    {
     "name": "stdout",
     "output_type": "stream",
     "text": [
      "ID: HKEY_LOCAL_MACHINE\\SOFTWARE\\Microsoft\\Speech\\Voices\\Tokens\\TTS_MS_EN-US_ZIRA_11.0\n",
      "Name: Microsoft Zira Desktop - English (United States)\n",
      "Langs: ['en-US']\n",
      "----------------------------------------\n"
     ]
    }
   ],
   "execution_count": 1
  },
  {
   "metadata": {
    "ExecuteTime": {
     "end_time": "2025-08-07T09:35:26.653765Z",
     "start_time": "2025-08-07T09:35:26.641703Z"
    }
   },
   "cell_type": "code",
   "source": [
    "\n",
    "text=\"Hi M. Raf,I just finished reading your AI 2025 barometer on financial companies in Belgium. Congratulations, it's a very fine document.If I may: After reading your document, the main stakeholders are Ethias, BNP Paribas, and Baloise. Why haven't major Belgian institutions such as ING, Belfius, AXA, and KBC actively shared their feedback? On page 70, there seems to be a spelling error in your name as the author. In the graph on page 46, the sums of the different values are not always equal to 100%. Thank you for this fabulous document, which highlights many insights.Thank you and best regards, Roland TALLA \"\n",
    "\n",
    "text = \"Hi Alex,here attached my CV. Best regards, Roland\"\n",
    "\n",
    "speech_file = r\"C:\\Users\\tallar\\Documents\\PROJETS\\GenAI\\functions\\audio.wav\"\n",
    "\n",
    "\n",
    "def speech_to_text(speech_file: str):\n",
    "    # Charger le modèle Whisper en FP32 (pour éviter les warnings FP16 sur CPU)\n",
    "    model = whisper.load_model(\"base\", device=\"cpu\")  # ou \"small\", \"medium\", etc.\n",
    "\n",
    "    # Transcrire le fichier audio\n",
    "    result = model.transcribe(speech_file, fp16=False)  # important sur CPU\n",
    "\n",
    "    # Afficher le texte reconnu\n",
    "    print(\"Texte reconnu :\")\n",
    "    print(result[\"text\"])\n",
    "\n",
    "def text_to_speech(text: str, audio_file):\n",
    "    engine = pyttsx3.init()\n",
    "    engine.setProperty('rate', 100)\n",
    "    # Lister et choisir une voix française si dispo (sinon garde la voix par défaut)\n",
    "    for voice in engine.getProperty('voices'):\n",
    "        if \"fr\" in voice.name.lower() or \"hortense\" in voice.id.lower():\n",
    "            engine.setProperty('voice', voice.id)\n",
    "            break\n",
    "    engine.save_to_file(text, audio_file)\n",
    "    engine.say(text)\n",
    "    engine.runAndWait()\n",
    "\n",
    "def transcribe_file(audio_path):\n",
    "    recognizer = sr.Recognizer()\n",
    "    with sr.AudioFile(audio_path) as source:\n",
    "        audio = recognizer.record(source)\n",
    "\n",
    "    try:\n",
    "        text = recognizer.recognize_google(audio, language=\"en-US\")\n",
    "        print(\"Texte reconnu :\", text)\n",
    "    except sr.UnknownValueError:\n",
    "        print(\"Impossible de comprendre l'audio.\")\n",
    "    except sr.RequestError as e:\n",
    "        print(\"Erreur :\", e)"
   ],
   "id": "a3e02f5661bce52f",
   "outputs": [],
   "execution_count": 2
  },
  {
   "metadata": {
    "ExecuteTime": {
     "end_time": "2025-08-07T09:35:34.096395Z",
     "start_time": "2025-08-07T09:35:27.008200Z"
    }
   },
   "cell_type": "code",
   "source": [
    "\n",
    "text_to_speech(text, speech_file)"
   ],
   "id": "d8b1a6fdc35f0c29",
   "outputs": [],
   "execution_count": 3
  },
  {
   "metadata": {
    "collapsed": true,
    "ExecuteTime": {
     "end_time": "2025-08-07T09:35:35.815867Z",
     "start_time": "2025-08-07T09:35:34.119710Z"
    }
   },
   "cell_type": "code",
   "source": [
    "if not os.path.exists(speech_file):\n",
    "    print(f\"❌ Le fichier {speech_file} n'existe pas.\")\n",
    "else:\n",
    "    transcribe_file(speech_file)"
   ],
   "id": "initial_id",
   "outputs": [
    {
     "name": "stdout",
     "output_type": "stream",
     "text": [
      "Texte reconnu : hi Alex here attached my CV best regards Roland\n"
     ]
    }
   ],
   "execution_count": 4
  },
  {
   "metadata": {
    "ExecuteTime": {
     "end_time": "2025-08-07T09:35:35.824625Z",
     "start_time": "2025-08-07T09:35:35.820389Z"
    }
   },
   "cell_type": "code",
   "source": "",
   "id": "3a0838061a10c596",
   "outputs": [],
   "execution_count": null
  }
 ],
 "metadata": {
  "kernelspec": {
   "display_name": "Python 3",
   "language": "python",
   "name": "python3"
  },
  "language_info": {
   "codemirror_mode": {
    "name": "ipython",
    "version": 2
   },
   "file_extension": ".py",
   "mimetype": "text/x-python",
   "name": "python",
   "nbconvert_exporter": "python",
   "pygments_lexer": "ipython2",
   "version": "2.7.6"
  }
 },
 "nbformat": 4,
 "nbformat_minor": 5
}
