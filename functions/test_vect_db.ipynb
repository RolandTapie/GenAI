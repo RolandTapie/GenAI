{
 "cells": [
  {
   "cell_type": "code",
   "id": "initial_id",
   "metadata": {
    "collapsed": true,
    "ExecuteTime": {
     "end_time": "2025-08-20T09:16:00.044374Z",
     "start_time": "2025-08-20T09:15:52.188234Z"
    }
   },
   "source": [
    "from src.services.vector_database.vector_db import ChromaEmbedding\n",
    "from src.services.vectorization.vectorization import Vectorization\n",
    "from dotenv import load_dotenv\n",
    "import os\n",
    "load_dotenv()\n",
    "document= os.getenv(\"business_file\")"
   ],
   "outputs": [
    {
     "name": "stderr",
     "output_type": "stream",
     "text": [
      "C:\\Users\\tallar\\Documents\\PROJETS\\GenAI\\venv\\Lib\\site-packages\\tqdm\\auto.py:21: TqdmWarning: IProgress not found. Please update jupyter and ipywidgets. See https://ipywidgets.readthedocs.io/en/stable/user_install.html\n",
      "  from .autonotebook import tqdm as notebook_tqdm\n"
     ]
    }
   ],
   "execution_count": 1
  },
  {
   "metadata": {
    "ExecuteTime": {
     "end_time": "2025-08-20T09:16:17.892270Z",
     "start_time": "2025-08-20T09:16:00.050371Z"
    }
   },
   "cell_type": "code",
   "source": [
    "from src.services.RAG.rag import RagModel\n",
    "rag_instance = RagModel(document,\"all-MiniLM-L6-v2\")"
   ],
   "id": "c0a47303f477dc66",
   "outputs": [
    {
     "name": "stderr",
     "output_type": "stream",
     "text": [
      "Parameter `strict_text` has been deprecated and will be ignored.\n"
     ]
    },
    {
     "name": "stdout",
     "output_type": "stream",
     "text": [
      "La collection 'all-MiniLM-L6-v2' existe ✅\n",
      "Collection 'all-MiniLM-L6-v2' supprimée ❌\n",
      "Création d'une nouvelle collection\n"
     ]
    }
   ],
   "execution_count": 2
  },
  {
   "metadata": {
    "ExecuteTime": {
     "end_time": "2025-08-20T09:16:18.137300Z",
     "start_time": "2025-08-20T09:16:18.133894Z"
    }
   },
   "cell_type": "code",
   "source": "db=rag_instance.get_db_vector()",
   "id": "68d43a1e5b09b5dc",
   "outputs": [],
   "execution_count": 3
  },
  {
   "metadata": {
    "ExecuteTime": {
     "end_time": "2025-08-20T09:16:18.231523Z",
     "start_time": "2025-08-20T09:16:18.208967Z"
    }
   },
   "cell_type": "code",
   "source": [
    "collection = db.get_client().get_collection(name=\"all-MiniLM-L6-v2\")\n",
    "\n",
    "# Récupérer tous les éléments\n",
    "documents = collection.get()\n",
    "\n",
    "print(documents)"
   ],
   "id": "3d3e3b310eea39cc",
   "outputs": [
    {
     "name": "stdout",
     "output_type": "stream",
     "text": [
      "{'ids': ['0', '1', '2', '3', '4', '5', '6', '7', '8', '9', '10', '11', '12', '13', '14', '15', '16', '17', '18', '19', '20', '21', '22', '23', '24', '25', '26', '27', '28', '29', '30', '31', '32', '33', '34', '35', '36', '37', '38', '39', '40', '41', '42', '43', '44'], 'embeddings': None, 'documents': ['Concernant le dossier 556-1573, Géhénot Igor Henri affirme avoir payé 100 EUR pour la créance 59092105040 au Schmit Isabelle à la date du 22/09/2023.  Géhénot Igor Henri est domicilié à Rue Vanderkindere 366, 2 1180 Uccle et a pour adresse mail : igor.g@live.be.', 'Concernant le dossier 556-1681, Diallo Moussa affirme avoir payé 108,04 EUR pour la créance 0207343933  au à la date du 06/01/2022.  Diallo Moussa est domicilié à Rue Général-de-Gaulle 74, 0053 4020 Liège et a pour adresse mail : diallo.moussa86@gmail.com.', 'Concernant le dossier 556-1702, peeters didier affirme avoir payé 23565,75 EUR pour la créance 20205080000212  au   à la date du 10/03/2021.  peeters didier est domicilié à chaussée de Waterloo 1359, 4 1180 Uccle et a pour adresse mail : didier.peeters@cdp.be.', 'Concernant le dossier 556-2851, Paulus Théodore affirme avoir payé 1303,26 EUR pour la créance 20205150001270  au   à la date du 17/01/2022.  Paulus Théodore est domicilié à Rue defechereux 17,  4031 Angleur et a pour adresse mail : urbainm@liege.be.', 'Concernant le dossier 556-3419, DITTA Allah affirme avoir payé 43,5 EUR pour la créance 1900400442  au   à la date du 23/08/2023.  DITTA Allah est domicilié à de porto 122, 0001 4020 liège et a pour adresse mail : aman.warya@gmail.com.', 'Concernant le dossier 556-2852, Paulus Théodore affirme avoir payé 1303,26 EUR pour la créance 202005150001500  au   à la date du 17/01/2022.  Paulus Théodore est domicilié à Rue defechereux 17,  4031 Angleur et a pour adresse mail : urbainm@liege.be.', 'Concernant le dossier 556-2853, Paulus Théodore affirme avoir payé 1303,26 EUR pour la créance 2020510000994  au   à la date du 17/01/2022.  Paulus Théodore est domicilié à Rue defechereux 17,  4031 Angleur et a pour adresse mail : urbainm@liege.be.', 'Concernant le dossier 556-2503, Borrego Nuñez Rocio affirme avoir payé 170,81 EUR pour la créance 202205302303211  au   à la date du 12/02/2023.  Borrego Nuñez Rocio est domicilié à Rue Elise-Grandprez 47, 4020 Liège et a pour adresse mail : rborregonu@hotmail.com.', 'Concernant le dossier 556-3412, DITTA Allah affirme avoir payé 3130 EUR pour la créance 1804000509  au   à la date du 23/08/2023.  DITTA Allah est domicilié à de porto 122, 0001 4020 liège et a pour adresse mail : aman.warya@gmail.com.', 'Concernant le dossier 556-3444, Buelens Pauline Marie Colette Joséphine affirme avoir payé 100 EUR pour la créance 000060228  au Doyen Michel à la date du 29/04/2022.  Buelens Pauline Marie Colette Joséphine est domicilié à Rue Grande 44,  6250 Aiseau-Presles et a pour adresse mail : pauline.buelens@pleiade.eu.', 'Concernant le dossier 556-2507, Borrego Nuñez Rocio affirme avoir payé 111,88 EUR pour la créance 202205302303298  au   à la date du 25/01/2023.  Borrego Nuñez Rocio est domicilié à Rue Elise-Grandprez 47, 4020 Liège et a pour adresse mail : rborregonu@hotmail.com.', 'Concernant le dossier 556-2921, Sohet Aline affirme avoir payé 139,2 EUR pour la créance 0664927971  au   à la date du 19/03/2020.  Sohet Aline est domicilié à Rue Houlteau 13,  4650 Chaineux et a pour adresse mail : alinesohet@outlook.be.', 'Concernant le dossier 556-3233, Micha Emmanuel André Henri affirme avoir payé 165 EUR pour la créance 2104670262  au   à la date du 05/01/2022.  Micha Emmanuel André Henri est domicilié à Rue de la Vieille-Eglise 38, A000 6970 Tenneville et a pour adresse mail : stephlamer@hotmail.com.', 'Concernant le dossier 556-3413, DITTA Allah affirme avoir payé 3130 EUR pour la créance 1804000115  au   à la date du 23/08/2023.  DITTA Allah est domicilié à de porto 122, 0001 4020 liège et a pour adresse mail : aman.warya@gmail.com.', 'Concernant le dossier 556-3461, Nkuanzambi cefora affirme avoir payé 136,5 EUR pour la créance 202105302201486  au   à la date du 02/06/2021.  Nkuanzambi cefora est domicilié à de visé ,  105 liège et a pour adresse mail : marcemada@hotmail.fr.', 'Concernant le dossier 556-3411, DITTA Allah affirme avoir payé 3130 EUR pour la créance 1904000261  au   à la date du 23/08/2023.  DITTA Allah est domicilié à de porto 122, 0001 4000 liège et a pour adresse mail : aman.warya@gmail.com.', \"Concernant le dossier 556-3379, Bouvy Stéphanie Corine Danièle Ghislaine affirme avoir payé 361,33 EUR pour la créance 202005301500017  au   à la date du 09/01/2023.  Bouvy Stéphanie Corine Danièle Ghislaine est domicilié à Rue de l'Aviation 9,  4032 Liège et a pour adresse mail : stephanie.bouvy@hotmail.be.\", 'Concernant le dossier 556-3410, DITTA Allah affirme avoir payé 3130 EUR pour la créance 1904000260  au   à la date du 23/08/2023.  DITTA Allah est domicilié à de porto 122, 0001 4020 Liège et a pour adresse mail : aman.warya@gmail.com.', \"Concernant le dossier 556-3382, Bouvy Stéphanie Corine Danièle Ghislaine affirme avoir payé 307,87 EUR pour la créance 202105301500371  au   à la date du 15/03/2022.  Bouvy Stéphanie Corine Danièle Ghislaine est domicilié à Rue de l'Aviation 9,  4032 Liège et a pour adresse mail : stephanie.bouvy@hotmail.be.\", 'Concernant le dossier 556-3541, Libert Tristan Julien Claudio Francis affirme avoir payé 51,5 EUR pour la créance 1904681169  au   à la date du 13/01/2020.  Libert Tristan Julien Claudio Francis est domicilié à Parc des Dix Bonniers 11,  4570 Marchin et a pour adresse mail : tristan-97@hotmail.fr.', 'Concernant le dossier 556-3392, Leroy Colette Marie Fernande affirme avoir payé 428,4 EUR pour la créance 1906201464  au   à la date du 07/07/2023.  Leroy Colette Marie Fernande est domicilié à Ligneuville-Sur le Tiège 18,  4960 Malmedy et a pour adresse mail : colette.leroy4@gmail.com.', 'Concernant le dossier 556-3415, DITTA Allah affirme avoir payé 3130 EUR pour la créance 1904000260  au   à la date du 23/08/2023.  DITTA Allah est domicilié à de porto 122, 0001 4020 liège et a pour adresse mail : aman.warya@gmail.com.', 'Concernant le dossier 556-3455, Wittorski Olivier Dominique Marie affirme avoir payé 23,39 EUR pour la créance 202105301700837  au   à la date du 11/10/2021.  Wittorski Olivier Dominique Marie est domicilié à Chemin du Carmel 19,  4053 Chaudfontaine et a pour adresse mail : wittorskiclose@gmail.com.', 'Concernant le dossier 556-3534, Guennoun Samir affirme avoir payé 471,89 EUR pour la créance 202205302101665  au   à la date du 02/12/2022.  Guennoun Samir est domicilié à Rue de Herve 609,  4030 Liège et a pour adresse mail : samg30@gmail.com.', 'Concernant le dossier 556-1659, Delvenne Julie Sandra Stéphanie affirme avoir payé 100 EUR pour la créance 0207343933  au   à la date du 25/10/2021.  Delvenne Julie Sandra Stéphanie est domicilié à Rue Nossale 12, 4671 Blegny et a pour adresse mail : juliedelvenne10@gmail.com.', 'Concernant le dossier 556-615, Labri Sara Yasmina affirme avoir payé 195 EUR pour la créance 202105300700425  au   à la date du 03/12/2021.  Labri Sara Yasmina est domicilié à Avenue des Coteaux 15, 4030 Liège et a pour adresse mail : sara.labri@live.fr.', 'Concernant le dossier 556-1490, Mercier Jean Luc affirme avoir payé 30 EUR pour la créance 1805213569  au   à la date du 06/11/2023.  Mercier Jean Luc est domicilié à Rue de la Gotte 14,  4120 Neupré et a pour adresse mail : jeanluc@mercier-bertho.be.', 'Concernant le dossier 556-1707, peeters didier affirme avoir payé 23565,75 EUR pour la créance 20205080000030  au   à la date du 10/09/2021.  peeters didier est domicilié à chaussée de Waterloo 1359, 4 1180 Uccle et a pour adresse mail : didier.peeters@cdp.be.', 'Concernant le dossier 556-1802, Lennertz Harry Ghislain Jean affirme avoir payé 105,35 EUR pour la créance 20210880001236  au   à la date du 22/03/2021.  Lennertz Harry Ghislain Jean est domicilié à Rue Gustave Demoulin 65,  4850 Plombières et a pour adresse mail : harry@lentec.be.', 'Concernant le dossier 556-1789, Mela Medza Catherine Lore affirme avoir payé 86,52 EUR pour la créance 202105302600175  au   à la date du 20/07/2021.  Mela Medza Catherine Lore est domicilié à Rue de Hesbaye 105,  4000 Liège et a pour adresse mail : lauremedza10@gmail.com.', \"Concernant le dossier 556-3757, Gofflot Séverine affirme avoir payé 11436,87 EUR pour la créance 20200180000139  au   à la date du 04/12/2023.  Gofflot Séverine est domicilié à Rue de l'Alignement 1,  4032 Liège et a pour adresse mail : gofflot.severine@gmail.com.\", 'Concernant le dossier 556-2844, Jeangille Lionel Yann Pierre affirme avoir payé 388,19 EUR pour la créance 202205301100023  au   à la date du 22/06/2022.  Jeangille Lionel Yann Pierre est domicilié à Rue du Gros-Gland 11,  4000 Liège et a pour adresse mail : lionel_jeangille@msn.com.', 'Concernant le dossier 556-2428, Vanfrachem Yohann affirme avoir payé 0,00 EUR pour la créance 202105300800400  au   à la date du 01/01/2021.  Vanfrachem Yohann est domicilié à Rue Firquet 2, B021 4000 Liège et a pour adresse mail : yohann.vf@gmail.com.', 'Concernant le dossier 556-2475, Boyne Nadège Lotty Marie-Pierre Gislaine affirme avoir payé 120,06 EUR pour la créance 202205303200835  au   à la date du 27/10/2023.  Boyne Nadège Lotty Marie-Pierre Gislaine est domicilié à Rue Saint-Gilles 596,  4000 Liège et a pour adresse mail : nadegeboyne70@hotmail.com.', \"Concernant le dossier 556-2537, Rogiers Nicolas Jacques Dominique affirme avoir payé 211,41 EUR pour la créance 202105302301597  au N'Diaye Ami à la date du 01/06/2021.  Rogiers Nicolas Jacques Dominique est domicilié à Rue Jean-Mathieu-Nisen 9, 0011 4020 Liège et a pour adresse mail : nicolas.rogiers@ifapme.be.\", 'Concernant le dossier 556-2276, Khalfouf Yassine affirme avoir payé 39,15 EUR pour la créance 202105302700148  au   à la date du 15/05/2021.  Khalfouf Yassine est domicilié à Rue Grand-Vinâve 40, 2 4101 Seraing et a pour adresse mail : khalfoufyassine@gmail.com.', 'Concernant le dossier 556-2676, Khalfouf Yassine affirme avoir payé 39,15 EUR pour la créance 202105302700167  au   à la date du 15/05/2021.  Khalfouf Yassine est domicilié à Rue Grand-Vinâve 40, 2 4101 Seraing et a pour adresse mail : khalfoufyassine@gmail.com.', 'Concernant le dossier 556-2173, Vanhaeren Lionel Pierre François affirme avoir payé 313,2 EUR pour la créance 20205150000140  au   à la date du 28/02/2020.  Vanhaeren Lionel Pierre François est domicilié à Rue Jean Stassart 25, C000 4367 Crisnée et a pour adresse mail : lionelvanhaeren@hotmail.com.', 'Concernant le dossier 556-2928, Van Roy Nelson affirme avoir payé 129,6 EUR pour la créance 20205150000230  au Singh Mandeep à la date du 03/03/2020.  Van Roy Nelson est domicilié à Place de la Libération 2,  4020 Liège et a pour adresse mail : nelson.vanroy@liege.be.', 'Concernant le dossier 556-2933, Mbanzila Toko affirme avoir payé 212,15 EUR pour la créance 202105301500005  au   à la date du 03/05/2023.  Mbanzila Toko est domicilié à Vaudrée 163, C012 4031 Liège et a pour adresse mail : rogermbanzila@gmail.com.', 'Concernant le dossier 556-2939, Mbanzila Toko affirme avoir payé 212,15 EUR pour la créance 202005301500281  au   à la date du 03/05/2023.  Mbanzila Toko est domicilié à Vaudrée 163, C012 4031 Liège et a pour adresse mail : rogermbanzila@gmail.com.', 'Concernant le dossier 556-3039, Mongo Bertille Elisabeth affirme avoir payé 1406,5 EUR pour la créance 000087661  au   à la date du 20/12/2023.  Mongo Bertille Elisabeth est domicilié à Rue Tout va Bien 57,  4420 Saint-Nicolas et a pour adresse mail : bertillem5@msn.com.', 'Concernant le dossier 556-3049, Mongo Bertille Elisabeth affirme avoir payé 4912,2 EUR pour la créance 000095728  au TCHOUTA MBIAKOP JACQUES à la date du 20/12/2023.  Mongo Bertille Elisabeth est domicilié à Rue Tout va Bien 57,  4420 Saint-Nicolas et a pour adresse mail : bertillem5@msn.com.', 'Concernant le dossier 556-3088, Duré Anne Marie Eva Madeleine Renée affirme avoir payé 220 EUR pour la créance 0676609147  au   à la date du 10/08/2023.  Duré Anne Marie Eva Madeleine Renée est domicilié à Rue Lamarck 115,  4000 Liège et a pour adresse mail : amd@srdb.be.', 'Concernant le dossier 556-3070, Bala Hikmet affirme avoir payé 100 EUR pour la créance 67090408702  au   à la date du 20/01/2023.  Bala Hikmet est domicilié à Rue Hector Denis 49,  4460 Grâce-Hollogne et a pour adresse mail : bala.hikmet@hotmail.com.'], 'uris': None, 'included': ['metadatas', 'documents'], 'data': None, 'metadatas': [{'source': 'metadata0', 'auteur': 'auteur', 'type': 'types'}, {'type': 'types', 'source': 'metadata1', 'auteur': 'auteur'}, {'source': 'metadata2', 'type': 'types', 'auteur': 'auteur'}, {'source': 'metadata3', 'type': 'types', 'auteur': 'auteur'}, {'type': 'types', 'auteur': 'auteur', 'source': 'metadata4'}, {'type': 'types', 'source': 'metadata5', 'auteur': 'auteur'}, {'source': 'metadata6', 'type': 'types', 'auteur': 'auteur'}, {'type': 'types', 'source': 'metadata7', 'auteur': 'auteur'}, {'auteur': 'auteur', 'source': 'metadata8', 'type': 'types'}, {'type': 'types', 'source': 'metadata9', 'auteur': 'auteur'}, {'auteur': 'auteur', 'source': 'metadata10', 'type': 'types'}, {'type': 'types', 'source': 'metadata11', 'auteur': 'auteur'}, {'source': 'metadata12', 'type': 'types', 'auteur': 'auteur'}, {'source': 'metadata13', 'type': 'types', 'auteur': 'auteur'}, {'auteur': 'auteur', 'type': 'types', 'source': 'metadata14'}, {'auteur': 'auteur', 'source': 'metadata15', 'type': 'types'}, {'type': 'types', 'source': 'metadata16', 'auteur': 'auteur'}, {'auteur': 'auteur', 'type': 'types', 'source': 'metadata17'}, {'auteur': 'auteur', 'type': 'types', 'source': 'metadata18'}, {'type': 'types', 'source': 'metadata19', 'auteur': 'auteur'}, {'source': 'metadata20', 'auteur': 'auteur', 'type': 'types'}, {'type': 'types', 'auteur': 'auteur', 'source': 'metadata21'}, {'source': 'metadata22', 'type': 'types', 'auteur': 'auteur'}, {'auteur': 'auteur', 'type': 'types', 'source': 'metadata23'}, {'source': 'metadata24', 'type': 'types', 'auteur': 'auteur'}, {'source': 'metadata25', 'type': 'types', 'auteur': 'auteur'}, {'source': 'metadata26', 'type': 'types', 'auteur': 'auteur'}, {'auteur': 'auteur', 'source': 'metadata27', 'type': 'types'}, {'type': 'types', 'auteur': 'auteur', 'source': 'metadata28'}, {'type': 'types', 'auteur': 'auteur', 'source': 'metadata29'}, {'source': 'metadata30', 'auteur': 'auteur', 'type': 'types'}, {'type': 'types', 'source': 'metadata31', 'auteur': 'auteur'}, {'type': 'types', 'auteur': 'auteur', 'source': 'metadata32'}, {'source': 'metadata33', 'auteur': 'auteur', 'type': 'types'}, {'source': 'metadata34', 'type': 'types', 'auteur': 'auteur'}, {'source': 'metadata35', 'auteur': 'auteur', 'type': 'types'}, {'type': 'types', 'auteur': 'auteur', 'source': 'metadata36'}, {'auteur': 'auteur', 'type': 'types', 'source': 'metadata37'}, {'source': 'metadata38', 'type': 'types', 'auteur': 'auteur'}, {'type': 'types', 'auteur': 'auteur', 'source': 'metadata39'}, {'type': 'types', 'auteur': 'auteur', 'source': 'metadata40'}, {'type': 'types', 'auteur': 'auteur', 'source': 'metadata41'}, {'source': 'metadata42', 'type': 'types', 'auteur': 'auteur'}, {'auteur': 'auteur', 'source': 'metadata43', 'type': 'types'}, {'source': 'metadata44', 'auteur': 'auteur', 'type': 'types'}]}\n"
     ]
    }
   ],
   "execution_count": 4
  },
  {
   "metadata": {
    "ExecuteTime": {
     "end_time": "2025-08-20T09:17:40.530231Z",
     "start_time": "2025-08-20T09:17:39.159713Z"
    }
   },
   "cell_type": "code",
   "source": "results, meta = rag_instance.rag_query(\"Concernant le dossier 556-1573, Géhénot Igor Henri affirme avoir payé 100 EUR pour la créance 59092105040 au Schmit Isabelle à la date du 22/09/2023\")",
   "id": "85df8729f2e6c5e6",
   "outputs": [
    {
     "name": "stdout",
     "output_type": "stream",
     "text": [
      "la question est : Concernant le dossier 556-1573, Géhénot Igor Henri affirme avoir payé 100 EUR pour la créance 59092105040 au Schmit Isabelle à la date du 22/09/2023\n",
      "la cible\n",
      "['Concernant le dossier 556-2173, Vanhaeren Lionel Pierre François affirme avoir payé 313,2 EUR pour la créance 20205150000140  au   à la date du 28/02/2020.  Vanhaeren Lionel Pierre François est domicilié à Rue Jean Stassart 25, C000 4367 Crisnée et a pour adresse mail : lionelvanhaeren@hotmail.com.']\n",
      "la distance\n",
      "[0.8195239305496216]\n"
     ]
    }
   ],
   "execution_count": 8
  },
  {
   "metadata": {
    "ExecuteTime": {
     "end_time": "2025-08-20T09:16:18.686876Z",
     "start_time": "2025-08-20T09:16:18.679873Z"
    }
   },
   "cell_type": "code",
   "source": [
    "collections = db.get_client().list_collections()\n",
    "\n",
    "for col in collections:\n",
    "    print(f\"Nom : {col.name}\")"
   ],
   "id": "41380d8213ba605e",
   "outputs": [
    {
     "name": "stdout",
     "output_type": "stream",
     "text": [
      "Nom : docs\n",
      "Nom : openai\n",
      "Nom : all-MiniLM-L6-v2\n"
     ]
    }
   ],
   "execution_count": 6
  }
 ],
 "metadata": {
  "kernelspec": {
   "display_name": "Python 3",
   "language": "python",
   "name": "python3"
  },
  "language_info": {
   "codemirror_mode": {
    "name": "ipython",
    "version": 2
   },
   "file_extension": ".py",
   "mimetype": "text/x-python",
   "name": "python",
   "nbconvert_exporter": "python",
   "pygments_lexer": "ipython2",
   "version": "2.7.6"
  }
 },
 "nbformat": 4,
 "nbformat_minor": 5
}
