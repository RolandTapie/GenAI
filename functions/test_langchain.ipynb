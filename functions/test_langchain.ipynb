{
 "cells": [
  {
   "cell_type": "code",
   "id": "508593701a77e801",
   "metadata": {
    "ExecuteTime": {
     "end_time": "2025-08-14T17:23:53.908575Z",
     "start_time": "2025-08-14T17:23:45.544682Z"
    }
   },
   "source": [
    "from functions.llm import model\n",
    "from functions.rag import RagModel"
   ],
   "outputs": [
    {
     "name": "stderr",
     "output_type": "stream",
     "text": [
      "C:\\Users\\tallar\\Documents\\PROJETS\\GenAI\\venv\\Lib\\site-packages\\tqdm\\auto.py:21: TqdmWarning: IProgress not found. Please update jupyter and ipywidgets. See https://ipywidgets.readthedocs.io/en/stable/user_install.html\n",
      "  from .autonotebook import tqdm as notebook_tqdm\n"
     ]
    }
   ],
   "execution_count": 1
  },
  {
   "metadata": {
    "ExecuteTime": {
     "end_time": "2025-08-14T17:23:57.746080Z",
     "start_time": "2025-08-14T17:23:53.915090Z"
    }
   },
   "cell_type": "code",
   "source": "rag = RagModel(r\"C:\\Users\\tallar\\Documents\\PROJETS\\GenAI\\docs\\files\\Aresbal.pdf\",\"Mistral\",\"text-embedding-3-small\")",
   "id": "812bf6896ca9eabe",
   "outputs": [
    {
     "name": "stdout",
     "output_type": "stream",
     "text": [
      "[[ 0.01107192  0.00477759  0.01214766 ...  0.0051731  -0.04826915\n",
      "  -0.00761292]\n",
      " [ 0.02368361  0.02636397  0.00963782 ...  0.02219422  0.04787605\n",
      "   0.00720769]\n",
      " [-0.00233848  0.05299914  0.05126404 ...  0.00229097  0.05058086\n",
      "  -0.04297008]\n",
      " ...\n",
      " [-0.01619224  0.08986523  0.02184459 ...  0.00980447 -0.04968474\n",
      "  -0.06364217]\n",
      " [-0.00869191  0.11945766  0.05172075 ... -0.02983246 -0.03747185\n",
      "  -0.0581295 ]\n",
      " [-0.0800759   0.12185504  0.02441283 ...  0.0189412  -0.00761429\n",
      "   0.01323067]]\n"
     ]
    }
   ],
   "execution_count": 2
  },
  {
   "metadata": {
    "ExecuteTime": {
     "end_time": "2025-08-14T17:23:58.000238Z",
     "start_time": "2025-08-14T17:23:57.979458Z"
    }
   },
   "cell_type": "code",
   "source": [
    "query = \"quels sont les types de membres?\"\n",
    "print(rag.rag_query(query))"
   ],
   "id": "b668faa9a4d153b8",
   "outputs": [
    {
     "name": "stdout",
     "output_type": "stream",
     "text": [
      "['ARESBAL distingue trois types de membres : ●  Les membres d’honneur Toute  personne,  homme  ou  femme  dont  la  notoriété  morale,  scientifique  ou  culturelle concourt à l’honorabilité de la réunion', ') ●  Les membres effectifs Toute personne d’origine camerounaise, ressortissant du village Bamendjou qui s’est acquitté de ses droits d’inscription de 50 € et du fond de caisse de 250€', 'L Art 2 : LES ASSISES Art 3 : DES MEMBRES']\n"
     ]
    }
   ],
   "execution_count": 3
  }
 ],
 "metadata": {
  "kernelspec": {
   "display_name": "Python 3",
   "language": "python",
   "name": "python3"
  },
  "language_info": {
   "codemirror_mode": {
    "name": "ipython",
    "version": 2
   },
   "file_extension": ".py",
   "mimetype": "text/x-python",
   "name": "python",
   "nbconvert_exporter": "python",
   "pygments_lexer": "ipython2",
   "version": "2.7.6"
  }
 },
 "nbformat": 4,
 "nbformat_minor": 5
}
