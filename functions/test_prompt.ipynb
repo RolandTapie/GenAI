{
 "cells": [
  {
   "cell_type": "code",
   "id": "initial_id",
   "metadata": {
    "collapsed": true,
    "ExecuteTime": {
     "end_time": "2025-08-09T21:22:20.486232Z",
     "start_time": "2025-08-09T21:22:17.879932Z"
    }
   },
   "source": [
    "from llm import *\n",
    "from dotenv import load_dotenv\n",
    "import os\n",
    "load_dotenv()\n",
    "openai_api_key = os.getenv(\"openai_key\")\n",
    "gemini_api_key = os.getenv(\"gemini_key\")\n",
    "model = model()\n",
    "\n",
    "model.set_openai_key(openai_api_key)\n",
    "model.set_openai_model(\"gpt-4o\")\n",
    "model.set_openai_base_url(\"https://api.openai.com/v1\")\n",
    "\n",
    "model.set_gemini_key(gemini_api_key)\n",
    "model.set_gemini_model(\"gemini-2.5-flash\")\n",
    "model.set_gemini_base_url(\"https://generativelanguage.googleapis.com/v1beta/openai/\")\n",
    "\n",
    "\n",
    "model.init_model(\"gemini\")\n",
    "message = \"bonjour\"\n",
    "\n",
    "print(model.ask(message))"
   ],
   "outputs": [
    {
     "name": "stdout",
     "output_type": "stream",
     "text": [
      "Bonjour ! Comment puis-je vous aider aujourd'hui ?\n"
     ]
    }
   ],
   "execution_count": 1
  },
  {
   "metadata": {
    "ExecuteTime": {
     "end_time": "2025-08-09T21:22:20.498812Z",
     "start_time": "2025-08-09T21:22:20.486232Z"
    }
   },
   "cell_type": "code",
   "source": "",
   "id": "98d7c9b793993fbd",
   "outputs": [],
   "execution_count": null
  }
 ],
 "metadata": {
  "kernelspec": {
   "display_name": "Python 3",
   "language": "python",
   "name": "python3"
  },
  "language_info": {
   "codemirror_mode": {
    "name": "ipython",
    "version": 2
   },
   "file_extension": ".py",
   "mimetype": "text/x-python",
   "name": "python",
   "nbconvert_exporter": "python",
   "pygments_lexer": "ipython2",
   "version": "2.7.6"
  }
 },
 "nbformat": 4,
 "nbformat_minor": 5
}
