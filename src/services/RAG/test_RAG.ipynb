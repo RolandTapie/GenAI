{
 "cells": [
  {
   "cell_type": "code",
   "id": "initial_id",
   "metadata": {
    "collapsed": true,
    "ExecuteTime": {
     "end_time": "2025-09-12T15:03:13.744140Z",
     "start_time": "2025-09-12T15:02:19.874998Z"
    }
   },
   "source": [
    "from src.services.RAG.extraction.document_extraction import DoclingExtractor\n",
    "from src.services.RAG.vectorization.vectorization import Vectorization\n",
    "from src.services.RAG.embeddings.db_embeddings import ChromaEmbedding\n",
    "from src.services.RAG.rag import RagModelV2\n",
    "\n",
    "extractor = DoclingExtractor(r\"C:\\Users\\tallar\\Documents\\PROJETS\\GenAI\\docs\\files\\Roland TALLA Data & Finance ENG.pdf\",\"\\n\")\n",
    "vectorizer = Vectorization(\"all-MiniLM-L6-v2\")\n",
    "embedding = ChromaEmbedding(\"rag\",False,3)\n",
    "\n",
    "rag=RagModelV2(extractor,vectorizer,embedding)"
   ],
   "outputs": [
    {
     "name": "stderr",
     "output_type": "stream",
     "text": [
      "C:\\Users\\tallar\\Documents\\PROJETS\\GenAI\\venv\\Lib\\site-packages\\tqdm\\auto.py:21: TqdmWarning: IProgress not found. Please update jupyter and ipywidgets. See https://ipywidgets.readthedocs.io/en/stable/user_install.html\n",
      "  from .autonotebook import tqdm as notebook_tqdm\n"
     ]
    },
    {
     "name": "stdout",
     "output_type": "stream",
     "text": [
      "2025-09-12 17:02:59.464736 : Injection de l'extracteur\n",
      "2025-09-12 17:02:59.465737 : Injection du vectorizer\n",
      "2025-09-12 17:02:59.465737 : Injection de l'embedding\n",
      "2025-09-12 17:02:59.465737 : Extraction des chunks : C:\\Users\\tallar\\Documents\\PROJETS\\GenAI\\docs\\files\\Roland TALLA Data & Finance ENG.pdf\n"
     ]
    },
    {
     "name": "stderr",
     "output_type": "stream",
     "text": [
      "Parameter `strict_text` has been deprecated and will be ignored.\n"
     ]
    },
    {
     "name": "stdout",
     "output_type": "stream",
     "text": [
      "le document\n",
      " le resultat de l'extraction : 25 chunks\n",
      "2025-09-12 17:03:12.749579 :  25 chunks extraits\n",
      "2025-09-12 17:03:12.749579 : Vectorisation des chunks\n",
      "2025-09-12 17:03:13.491578 :  25 chunks vectorisés\n",
      "2025-09-12 17:03:13.491578 : Embedding des vecteurs\n",
      "La collection 'rag_collection' existe ✅\n",
      "Collection 'rag_collection' supprimée ❌\n",
      "Création d'une nouvelle collection\n",
      "2025-09-12 17:03:13.741578 : RAG constitué\n"
     ]
    }
   ],
   "execution_count": 1
  },
  {
   "metadata": {
    "ExecuteTime": {
     "end_time": "2025-09-12T15:03:14.674534Z",
     "start_time": "2025-09-12T15:03:13.751137Z"
    }
   },
   "cell_type": "code",
   "source": "print(rag.rag_query(\"Director  of  Treasury : Cash  and  liquidity  management\"))",
   "id": "ed83e30bdf146891",
   "outputs": [
    {
     "name": "stdout",
     "output_type": "stream",
     "text": [
      "2025-09-12 17:03:13.759264 : consulation du RAG : Director  of  Treasury : Cash  and  liquidity  management\n",
      "la question est : Director  of  Treasury : Cash  and  liquidity  management\n",
      "la cible\n",
      "0 : 0 : 0.797189474105835 : 0032 (0) 489 00 90 31 | rolandtalla@outlook.com Rue Général Leman 62 , 4430 ANS / Belgium www.linkedin.com/in/RolandTalla\n",
      "1 : 11 : 0.809866189956665 : - ■ Treasury Reporting: DataWarehouse (SQL) and Visualization (Power BI)\n",
      "2 : 12 : 0.8440220355987549 : - Director  of  Treasury : Cash  and  liquidity  management  (loans,  SWAP/Forward hedging),  cash  pooling  and  banking  relationship  management,  deployment  of  the financial transactions module under Microsoft Dynamics 365\n",
      "2025-09-12 17:03:14.672357 : reponse du RAG : (['0032 (0) 489 00 90 31 | rolandtalla@outlook.com Rue Général Leman 62 , 4430 ANS / Belgium www.linkedin.com/in/RolandTalla', '- ■ Treasury Reporting: DataWarehouse (SQL) and Visualization (Power BI)', '- Director  of  Treasury : Cash  and  liquidity  management  (loans,  SWAP/Forward hedging),  cash  pooling  and  banking  relationship  management,  deployment  of  the financial transactions module under Microsoft Dynamics 365'], [{'source': 'metadata0', 'auteur': 'auteur', 'type': 'types'}, {'auteur': 'auteur', 'type': 'types', 'source': 'metadata11'}, {'auteur': 'auteur', 'type': 'types', 'source': 'metadata12'}])\n",
      "(['0032 (0) 489 00 90 31 | rolandtalla@outlook.com Rue Général Leman 62 , 4430 ANS / Belgium www.linkedin.com/in/RolandTalla', '- ■ Treasury Reporting: DataWarehouse (SQL) and Visualization (Power BI)', '- Director  of  Treasury : Cash  and  liquidity  management  (loans,  SWAP/Forward hedging),  cash  pooling  and  banking  relationship  management,  deployment  of  the financial transactions module under Microsoft Dynamics 365'], [{'source': 'metadata0', 'auteur': 'auteur', 'type': 'types'}, {'auteur': 'auteur', 'type': 'types', 'source': 'metadata11'}, {'auteur': 'auteur', 'type': 'types', 'source': 'metadata12'}])\n"
     ]
    }
   ],
   "execution_count": 2
  }
 ],
 "metadata": {
  "kernelspec": {
   "display_name": "Python 3",
   "language": "python",
   "name": "python3"
  },
  "language_info": {
   "codemirror_mode": {
    "name": "ipython",
    "version": 2
   },
   "file_extension": ".py",
   "mimetype": "text/x-python",
   "name": "python",
   "nbconvert_exporter": "python",
   "pygments_lexer": "ipython2",
   "version": "2.7.6"
  }
 },
 "nbformat": 4,
 "nbformat_minor": 5
}
